{
 "cells": [
  {
   "cell_type": "code",
   "execution_count": null,
   "metadata": {
    "collapsed": true
   },
   "outputs": [],
   "source": [
    "#!/usr/bin/env python\n",
    "\"\"\"\n",
    "Very simple HTTP server in python.\n",
    "Usage::\n",
    "    ./dummy-web-server.py [<port>]\n",
    "Send a GET request::\n",
    "    curl http://localhost\n",
    "Send a HEAD request::\n",
    "    curl -I http://localhost\n",
    "Send a POST request::\n",
    "    curl -d \"foo=bar&bin=baz\" http://localhost\n",
    "\"\"\"\n",
    "from BaseHTTPServer import BaseHTTPRequestHandler, HTTPServer\n",
    "import SocketServer\n",
    "\n",
    "class S(BaseHTTPRequestHandler):\n",
    "    def _set_headers(self):\n",
    "        self.send_response(200)\n",
    "        self.send_header('Content-type', 'text/html')\n",
    "        self.end_headers()\n",
    "\n",
    "    def do_GET(self):\n",
    "        self._set_headers()\n",
    "        self.wfile.write(\"<html><body><h1>hi!</h1></body></html>\")\n",
    "\n",
    "    def do_HEAD(self):\n",
    "        self._set_headers()\n",
    "        \n",
    "    def do_POST(self):\n",
    "        # Doesn't do anything with posted data\n",
    "        content_length = int(self.headers['Content-Length']) # <--- Gets the size of data\n",
    "        post_data = self.rfile.read(content_length) # <--- Gets the data itself\n",
    "        self._set_headers()\n",
    "        self.wfile.write(\"<html><body><h1>POST!</h1><pre>\" + post_data + \"</pre></body></html>\")\n",
    "        \n",
    "def run(server_class=HTTPServer, handler_class=S, port=80):\n",
    "    server_address = ('', port)\n",
    "    httpd = server_class(server_address, handler_class)\n",
    "    print 'Starting httpd...'\n",
    "    httpd.serve_forever()\n",
    "\n",
    "if __name__ == \"__main__\":\n",
    "    from sys import argv\n",
    "\n",
    "    if len(argv) == 2:\n",
    "        run(port=int(argv[1]))\n",
    "    else:\n",
    "        run()"
   ]
  }
 ],
 "metadata": {
  "anaconda-cloud": {},
  "kernelspec": {
   "display_name": "Python [Root]",
   "language": "python",
   "name": "Python [Root]"
  },
  "language_info": {
   "codemirror_mode": {
    "name": "ipython",
    "version": 3
   },
   "file_extension": ".py",
   "mimetype": "text/x-python",
   "name": "python",
   "nbconvert_exporter": "python",
   "pygments_lexer": "ipython3",
   "version": "3.5.2"
  }
 },
 "nbformat": 4,
 "nbformat_minor": 0
}
